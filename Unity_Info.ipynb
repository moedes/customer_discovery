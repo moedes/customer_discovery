{
 "cells": [
  {
   "cell_type": "code",
   "execution_count": 2,
   "metadata": {},
   "outputs": [],
   "source": [
    "import json\n",
    "import creds\n",
    "import requests\n",
    "import pandas as pd\n",
    "import matplotlib.pyplot as plt"
   ]
  },
  {
   "cell_type": "code",
   "execution_count": 5,
   "metadata": {},
   "outputs": [],
   "source": [
    "session = requests.Session()\n",
    "session.auth = (creds.login[\"username\"], creds.login[\"password\"])"
   ]
  },
  {
   "cell_type": "code",
   "execution_count": 6,
   "metadata": {},
   "outputs": [
    {
     "name": "stderr",
     "output_type": "stream",
     "text": [
      "/usr/lib/python3/dist-packages/urllib3/connectionpool.py:860: InsecureRequestWarning: Unverified HTTPS request is being made. Adding certificate verification is strongly advised. See: https://urllib3.readthedocs.io/en/latest/advanced-usage.html#ssl-warnings\n",
      "  InsecureRequestWarning)\n",
      "/usr/lib/python3/dist-packages/urllib3/connectionpool.py:860: InsecureRequestWarning: Unverified HTTPS request is being made. Adding certificate verification is strongly advised. See: https://urllib3.readthedocs.io/en/latest/advanced-usage.html#ssl-warnings\n",
      "  InsecureRequestWarning)\n",
      "/usr/lib/python3/dist-packages/urllib3/connectionpool.py:860: InsecureRequestWarning: Unverified HTTPS request is being made. Adding certificate verification is strongly advised. See: https://urllib3.readthedocs.io/en/latest/advanced-usage.html#ssl-warnings\n",
      "  InsecureRequestWarning)\n",
      "/usr/lib/python3/dist-packages/urllib3/connectionpool.py:860: InsecureRequestWarning: Unverified HTTPS request is being made. Adding certificate verification is strongly advised. See: https://urllib3.readthedocs.io/en/latest/advanced-usage.html#ssl-warnings\n",
      "  InsecureRequestWarning)\n",
      "/usr/lib/python3/dist-packages/urllib3/connectionpool.py:860: InsecureRequestWarning: Unverified HTTPS request is being made. Adding certificate verification is strongly advised. See: https://urllib3.readthedocs.io/en/latest/advanced-usage.html#ssl-warnings\n",
      "  InsecureRequestWarning)\n"
     ]
    }
   ],
   "source": [
    "portinfo = session.get('https://10.237.196.198/api/types/ipPort/instances?fields=name,macAddress,isLinkUp&compact=true', headers={\"X-EMC-REST-CLIENT\":\"true\"}, verify=False)\n",
    "basicinfo = session.get('https://10.237.196.198/api/types/basicSystemInfo/instances?fields=name,model,softwareVersion&compact=true', headers={\"X-EMC-REST-CLIENT\":\"true\"}, verify=False)"
   ]
  },
  {
   "cell_type": "code",
   "execution_count": 7,
   "metadata": {},
   "outputs": [],
   "source": [
    "portinfo = portinfo.json()"
   ]
  },
  {
   "cell_type": "code",
   "execution_count": 8,
   "metadata": {},
   "outputs": [],
   "source": [
    "basicinfo = basicinfo.json()"
   ]
  },
  {
   "cell_type": "code",
   "execution_count": 9,
   "metadata": {},
   "outputs": [
    {
     "data": {
      "text/plain": [
       "{'@base': 'https://10.237.196.198/api/types/basicSystemInfo/instances?fields=name,model,softwareVersion&per_page=2000&compact=true',\n",
       " 'updated': '2019-07-09T19:43:37.014Z',\n",
       " 'links': [{'rel': 'self', 'href': '&page=1'}],\n",
       " 'entries': [{'content': {'id': '0',\n",
       "    'model': 'Unity 300F',\n",
       "    'name': 'APM00170818293',\n",
       "    'softwareVersion': '4.5.0',\n",
       "    'apiVersion': '9.0',\n",
       "    'earliestApiVersion': '4.0'}}]}"
      ]
     },
     "execution_count": 9,
     "metadata": {},
     "output_type": "execute_result"
    }
   ],
   "source": [
    "basicinfo"
   ]
  },
  {
   "cell_type": "code",
   "execution_count": 17,
   "metadata": {},
   "outputs": [],
   "source": [
    "basic_df = pd.DataFrame(basicinfo['entries'][0])"
   ]
  },
  {
   "cell_type": "code",
   "execution_count": 15,
   "metadata": {},
   "outputs": [
    {
     "data": {
      "text/html": [
       "<div>\n",
       "<style scoped>\n",
       "    .dataframe tbody tr th:only-of-type {\n",
       "        vertical-align: middle;\n",
       "    }\n",
       "\n",
       "    .dataframe tbody tr th {\n",
       "        vertical-align: top;\n",
       "    }\n",
       "\n",
       "    .dataframe thead th {\n",
       "        text-align: right;\n",
       "    }\n",
       "</style>\n",
       "<table border=\"1\" class=\"dataframe\">\n",
       "  <thead>\n",
       "    <tr style=\"text-align: right;\">\n",
       "      <th></th>\n",
       "      <th>content</th>\n",
       "    </tr>\n",
       "  </thead>\n",
       "  <tbody>\n",
       "    <tr>\n",
       "      <th>apiVersion</th>\n",
       "      <td>9.0</td>\n",
       "    </tr>\n",
       "    <tr>\n",
       "      <th>earliestApiVersion</th>\n",
       "      <td>4.0</td>\n",
       "    </tr>\n",
       "    <tr>\n",
       "      <th>id</th>\n",
       "      <td>0</td>\n",
       "    </tr>\n",
       "    <tr>\n",
       "      <th>model</th>\n",
       "      <td>Unity 300F</td>\n",
       "    </tr>\n",
       "    <tr>\n",
       "      <th>name</th>\n",
       "      <td>APM00170818293</td>\n",
       "    </tr>\n",
       "    <tr>\n",
       "      <th>softwareVersion</th>\n",
       "      <td>4.5.0</td>\n",
       "    </tr>\n",
       "  </tbody>\n",
       "</table>\n",
       "</div>"
      ],
      "text/plain": [
       "                           content\n",
       "apiVersion                     9.0\n",
       "earliestApiVersion             4.0\n",
       "id                               0\n",
       "model                   Unity 300F\n",
       "name                APM00170818293\n",
       "softwareVersion              4.5.0"
      ]
     },
     "execution_count": 15,
     "metadata": {},
     "output_type": "execute_result"
    }
   ],
   "source": [
    "basic_df"
   ]
  },
  {
   "cell_type": "code",
   "execution_count": null,
   "metadata": {},
   "outputs": [],
   "source": []
  },
  {
   "cell_type": "code",
   "execution_count": null,
   "metadata": {},
   "outputs": [],
   "source": []
  },
  {
   "cell_type": "code",
   "execution_count": 18,
   "metadata": {},
   "outputs": [],
   "source": [
    "network = []"
   ]
  },
  {
   "cell_type": "code",
   "execution_count": 19,
   "metadata": {},
   "outputs": [],
   "source": [
    "systeminfo = {}"
   ]
  },
  {
   "cell_type": "code",
   "execution_count": 20,
   "metadata": {},
   "outputs": [],
   "source": [
    "for inter in portinfo['entries']:\n",
    "    network.append(inter['content'])"
   ]
  },
  {
   "cell_type": "code",
   "execution_count": 21,
   "metadata": {},
   "outputs": [
    {
     "data": {
      "text/plain": [
       "[{'id': 'spa_eth2',\n",
       "  'name': 'SP A Ethernet Port 2',\n",
       "  'macAddress': '00:60:16:83:1F:F1',\n",
       "  'isLinkUp': False},\n",
       " {'id': 'spa_eth3',\n",
       "  'name': 'SP A Ethernet Port 3',\n",
       "  'macAddress': '00:60:16:83:1F:F0',\n",
       "  'isLinkUp': False},\n",
       " {'id': 'spa_eth4',\n",
       "  'name': 'SP A Ethernet Port 4',\n",
       "  'macAddress': '00:60:48:35:22:73',\n",
       "  'isLinkUp': True},\n",
       " {'id': 'spa_eth5',\n",
       "  'name': 'SP A Ethernet Port 5',\n",
       "  'macAddress': '00:60:48:35:22:72',\n",
       "  'isLinkUp': True},\n",
       " {'id': 'spa_iom_0_eth0',\n",
       "  'name': 'SP A I/O Module 0 Ethernet Port 0',\n",
       "  'macAddress': '00:60:16:57:EB:28',\n",
       "  'isLinkUp': False},\n",
       " {'id': 'spa_iom_0_eth1',\n",
       "  'name': 'SP A I/O Module 0 Ethernet Port 1',\n",
       "  'macAddress': '00:60:16:57:EB:29',\n",
       "  'isLinkUp': False},\n",
       " {'id': 'spa_iom_0_eth2',\n",
       "  'name': 'SP A I/O Module 0 Ethernet Port 2',\n",
       "  'macAddress': '00:60:16:57:EB:2A',\n",
       "  'isLinkUp': False},\n",
       " {'id': 'spa_iom_0_eth3',\n",
       "  'name': 'SP A I/O Module 0 Ethernet Port 3',\n",
       "  'macAddress': '00:60:16:57:EB:2B',\n",
       "  'isLinkUp': True},\n",
       " {'id': 'spa_mgmt',\n",
       "  'name': 'SP A Management Port',\n",
       "  'macAddress': '08:00:1B:FF:26:70',\n",
       "  'isLinkUp': True},\n",
       " {'id': 'spa_srm',\n",
       "  'name': 'SP A Sync Replication Management Port',\n",
       "  'macAddress': '92:6D:42:AA:9B:1A',\n",
       "  'isLinkUp': True},\n",
       " {'id': 'spb_eth2',\n",
       "  'name': 'SP B Ethernet Port 2',\n",
       "  'macAddress': '00:60:16:83:26:55',\n",
       "  'isLinkUp': False},\n",
       " {'id': 'spb_eth3',\n",
       "  'name': 'SP B Ethernet Port 3',\n",
       "  'macAddress': '00:60:16:83:26:54',\n",
       "  'isLinkUp': False},\n",
       " {'id': 'spb_eth4',\n",
       "  'name': 'SP B Ethernet Port 4',\n",
       "  'macAddress': '00:60:48:35:02:E1',\n",
       "  'isLinkUp': True},\n",
       " {'id': 'spb_eth5',\n",
       "  'name': 'SP B Ethernet Port 5',\n",
       "  'macAddress': '00:60:48:35:02:E0',\n",
       "  'isLinkUp': True},\n",
       " {'id': 'spb_iom_0_eth0',\n",
       "  'name': 'SP B I/O Module 0 Ethernet Port 0',\n",
       "  'macAddress': '00:60:16:57:F3:58',\n",
       "  'isLinkUp': False},\n",
       " {'id': 'spb_iom_0_eth1',\n",
       "  'name': 'SP B I/O Module 0 Ethernet Port 1',\n",
       "  'macAddress': '00:60:16:57:F3:59',\n",
       "  'isLinkUp': False},\n",
       " {'id': 'spb_iom_0_eth2',\n",
       "  'name': 'SP B I/O Module 0 Ethernet Port 2',\n",
       "  'macAddress': '00:60:16:57:F3:5A',\n",
       "  'isLinkUp': False},\n",
       " {'id': 'spb_iom_0_eth3',\n",
       "  'name': 'SP B I/O Module 0 Ethernet Port 3',\n",
       "  'macAddress': '00:60:16:57:F3:5B',\n",
       "  'isLinkUp': True},\n",
       " {'id': 'spb_mgmt',\n",
       "  'name': 'SP B Management Port',\n",
       "  'macAddress': '00:00:00:00:00:00',\n",
       "  'isLinkUp': True},\n",
       " {'id': 'spb_srm',\n",
       "  'name': 'SP B Sync Replication Management Port',\n",
       "  'macAddress': '62:AF:5D:52:FB:E2',\n",
       "  'isLinkUp': True}]"
      ]
     },
     "execution_count": 21,
     "metadata": {},
     "output_type": "execute_result"
    }
   ],
   "source": [
    "network"
   ]
  },
  {
   "cell_type": "code",
   "execution_count": 22,
   "metadata": {},
   "outputs": [],
   "source": [
    "systeminfo['Network'] = network"
   ]
  },
  {
   "cell_type": "code",
   "execution_count": 23,
   "metadata": {},
   "outputs": [
    {
     "data": {
      "text/plain": [
       "{'Network': [{'id': 'spa_eth2',\n",
       "   'name': 'SP A Ethernet Port 2',\n",
       "   'macAddress': '00:60:16:83:1F:F1',\n",
       "   'isLinkUp': False},\n",
       "  {'id': 'spa_eth3',\n",
       "   'name': 'SP A Ethernet Port 3',\n",
       "   'macAddress': '00:60:16:83:1F:F0',\n",
       "   'isLinkUp': False},\n",
       "  {'id': 'spa_eth4',\n",
       "   'name': 'SP A Ethernet Port 4',\n",
       "   'macAddress': '00:60:48:35:22:73',\n",
       "   'isLinkUp': True},\n",
       "  {'id': 'spa_eth5',\n",
       "   'name': 'SP A Ethernet Port 5',\n",
       "   'macAddress': '00:60:48:35:22:72',\n",
       "   'isLinkUp': True},\n",
       "  {'id': 'spa_iom_0_eth0',\n",
       "   'name': 'SP A I/O Module 0 Ethernet Port 0',\n",
       "   'macAddress': '00:60:16:57:EB:28',\n",
       "   'isLinkUp': False},\n",
       "  {'id': 'spa_iom_0_eth1',\n",
       "   'name': 'SP A I/O Module 0 Ethernet Port 1',\n",
       "   'macAddress': '00:60:16:57:EB:29',\n",
       "   'isLinkUp': False},\n",
       "  {'id': 'spa_iom_0_eth2',\n",
       "   'name': 'SP A I/O Module 0 Ethernet Port 2',\n",
       "   'macAddress': '00:60:16:57:EB:2A',\n",
       "   'isLinkUp': False},\n",
       "  {'id': 'spa_iom_0_eth3',\n",
       "   'name': 'SP A I/O Module 0 Ethernet Port 3',\n",
       "   'macAddress': '00:60:16:57:EB:2B',\n",
       "   'isLinkUp': True},\n",
       "  {'id': 'spa_mgmt',\n",
       "   'name': 'SP A Management Port',\n",
       "   'macAddress': '08:00:1B:FF:26:70',\n",
       "   'isLinkUp': True},\n",
       "  {'id': 'spa_srm',\n",
       "   'name': 'SP A Sync Replication Management Port',\n",
       "   'macAddress': '92:6D:42:AA:9B:1A',\n",
       "   'isLinkUp': True},\n",
       "  {'id': 'spb_eth2',\n",
       "   'name': 'SP B Ethernet Port 2',\n",
       "   'macAddress': '00:60:16:83:26:55',\n",
       "   'isLinkUp': False},\n",
       "  {'id': 'spb_eth3',\n",
       "   'name': 'SP B Ethernet Port 3',\n",
       "   'macAddress': '00:60:16:83:26:54',\n",
       "   'isLinkUp': False},\n",
       "  {'id': 'spb_eth4',\n",
       "   'name': 'SP B Ethernet Port 4',\n",
       "   'macAddress': '00:60:48:35:02:E1',\n",
       "   'isLinkUp': True},\n",
       "  {'id': 'spb_eth5',\n",
       "   'name': 'SP B Ethernet Port 5',\n",
       "   'macAddress': '00:60:48:35:02:E0',\n",
       "   'isLinkUp': True},\n",
       "  {'id': 'spb_iom_0_eth0',\n",
       "   'name': 'SP B I/O Module 0 Ethernet Port 0',\n",
       "   'macAddress': '00:60:16:57:F3:58',\n",
       "   'isLinkUp': False},\n",
       "  {'id': 'spb_iom_0_eth1',\n",
       "   'name': 'SP B I/O Module 0 Ethernet Port 1',\n",
       "   'macAddress': '00:60:16:57:F3:59',\n",
       "   'isLinkUp': False},\n",
       "  {'id': 'spb_iom_0_eth2',\n",
       "   'name': 'SP B I/O Module 0 Ethernet Port 2',\n",
       "   'macAddress': '00:60:16:57:F3:5A',\n",
       "   'isLinkUp': False},\n",
       "  {'id': 'spb_iom_0_eth3',\n",
       "   'name': 'SP B I/O Module 0 Ethernet Port 3',\n",
       "   'macAddress': '00:60:16:57:F3:5B',\n",
       "   'isLinkUp': True},\n",
       "  {'id': 'spb_mgmt',\n",
       "   'name': 'SP B Management Port',\n",
       "   'macAddress': '00:00:00:00:00:00',\n",
       "   'isLinkUp': True},\n",
       "  {'id': 'spb_srm',\n",
       "   'name': 'SP B Sync Replication Management Port',\n",
       "   'macAddress': '62:AF:5D:52:FB:E2',\n",
       "   'isLinkUp': True}]}"
      ]
     },
     "execution_count": 23,
     "metadata": {},
     "output_type": "execute_result"
    }
   ],
   "source": [
    "systeminfo"
   ]
  },
  {
   "cell_type": "code",
   "execution_count": 24,
   "metadata": {},
   "outputs": [],
   "source": [
    "basic = []"
   ]
  },
  {
   "cell_type": "code",
   "execution_count": 25,
   "metadata": {},
   "outputs": [],
   "source": [
    "for info in basicinfo['entries']:\n",
    "    basic.append(info['content'])"
   ]
  },
  {
   "cell_type": "code",
   "execution_count": 26,
   "metadata": {},
   "outputs": [
    {
     "data": {
      "text/plain": [
       "[{'id': '0',\n",
       "  'model': 'Unity 300F',\n",
       "  'name': 'APM00170818293',\n",
       "  'softwareVersion': '4.5.0',\n",
       "  'apiVersion': '9.0',\n",
       "  'earliestApiVersion': '4.0'}]"
      ]
     },
     "execution_count": 26,
     "metadata": {},
     "output_type": "execute_result"
    }
   ],
   "source": [
    "basic"
   ]
  },
  {
   "cell_type": "code",
   "execution_count": 27,
   "metadata": {},
   "outputs": [],
   "source": [
    "systeminfo['Basic'] = basic"
   ]
  },
  {
   "cell_type": "code",
   "execution_count": 28,
   "metadata": {},
   "outputs": [
    {
     "data": {
      "text/plain": [
       "{'Network': [{'id': 'spa_eth2',\n",
       "   'name': 'SP A Ethernet Port 2',\n",
       "   'macAddress': '00:60:16:83:1F:F1',\n",
       "   'isLinkUp': False},\n",
       "  {'id': 'spa_eth3',\n",
       "   'name': 'SP A Ethernet Port 3',\n",
       "   'macAddress': '00:60:16:83:1F:F0',\n",
       "   'isLinkUp': False},\n",
       "  {'id': 'spa_eth4',\n",
       "   'name': 'SP A Ethernet Port 4',\n",
       "   'macAddress': '00:60:48:35:22:73',\n",
       "   'isLinkUp': True},\n",
       "  {'id': 'spa_eth5',\n",
       "   'name': 'SP A Ethernet Port 5',\n",
       "   'macAddress': '00:60:48:35:22:72',\n",
       "   'isLinkUp': True},\n",
       "  {'id': 'spa_iom_0_eth0',\n",
       "   'name': 'SP A I/O Module 0 Ethernet Port 0',\n",
       "   'macAddress': '00:60:16:57:EB:28',\n",
       "   'isLinkUp': False},\n",
       "  {'id': 'spa_iom_0_eth1',\n",
       "   'name': 'SP A I/O Module 0 Ethernet Port 1',\n",
       "   'macAddress': '00:60:16:57:EB:29',\n",
       "   'isLinkUp': False},\n",
       "  {'id': 'spa_iom_0_eth2',\n",
       "   'name': 'SP A I/O Module 0 Ethernet Port 2',\n",
       "   'macAddress': '00:60:16:57:EB:2A',\n",
       "   'isLinkUp': False},\n",
       "  {'id': 'spa_iom_0_eth3',\n",
       "   'name': 'SP A I/O Module 0 Ethernet Port 3',\n",
       "   'macAddress': '00:60:16:57:EB:2B',\n",
       "   'isLinkUp': True},\n",
       "  {'id': 'spa_mgmt',\n",
       "   'name': 'SP A Management Port',\n",
       "   'macAddress': '08:00:1B:FF:26:70',\n",
       "   'isLinkUp': True},\n",
       "  {'id': 'spa_srm',\n",
       "   'name': 'SP A Sync Replication Management Port',\n",
       "   'macAddress': '92:6D:42:AA:9B:1A',\n",
       "   'isLinkUp': True},\n",
       "  {'id': 'spb_eth2',\n",
       "   'name': 'SP B Ethernet Port 2',\n",
       "   'macAddress': '00:60:16:83:26:55',\n",
       "   'isLinkUp': False},\n",
       "  {'id': 'spb_eth3',\n",
       "   'name': 'SP B Ethernet Port 3',\n",
       "   'macAddress': '00:60:16:83:26:54',\n",
       "   'isLinkUp': False},\n",
       "  {'id': 'spb_eth4',\n",
       "   'name': 'SP B Ethernet Port 4',\n",
       "   'macAddress': '00:60:48:35:02:E1',\n",
       "   'isLinkUp': True},\n",
       "  {'id': 'spb_eth5',\n",
       "   'name': 'SP B Ethernet Port 5',\n",
       "   'macAddress': '00:60:48:35:02:E0',\n",
       "   'isLinkUp': True},\n",
       "  {'id': 'spb_iom_0_eth0',\n",
       "   'name': 'SP B I/O Module 0 Ethernet Port 0',\n",
       "   'macAddress': '00:60:16:57:F3:58',\n",
       "   'isLinkUp': False},\n",
       "  {'id': 'spb_iom_0_eth1',\n",
       "   'name': 'SP B I/O Module 0 Ethernet Port 1',\n",
       "   'macAddress': '00:60:16:57:F3:59',\n",
       "   'isLinkUp': False},\n",
       "  {'id': 'spb_iom_0_eth2',\n",
       "   'name': 'SP B I/O Module 0 Ethernet Port 2',\n",
       "   'macAddress': '00:60:16:57:F3:5A',\n",
       "   'isLinkUp': False},\n",
       "  {'id': 'spb_iom_0_eth3',\n",
       "   'name': 'SP B I/O Module 0 Ethernet Port 3',\n",
       "   'macAddress': '00:60:16:57:F3:5B',\n",
       "   'isLinkUp': True},\n",
       "  {'id': 'spb_mgmt',\n",
       "   'name': 'SP B Management Port',\n",
       "   'macAddress': '00:00:00:00:00:00',\n",
       "   'isLinkUp': True},\n",
       "  {'id': 'spb_srm',\n",
       "   'name': 'SP B Sync Replication Management Port',\n",
       "   'macAddress': '62:AF:5D:52:FB:E2',\n",
       "   'isLinkUp': True}],\n",
       " 'Basic': [{'id': '0',\n",
       "   'model': 'Unity 300F',\n",
       "   'name': 'APM00170818293',\n",
       "   'softwareVersion': '4.5.0',\n",
       "   'apiVersion': '9.0',\n",
       "   'earliestApiVersion': '4.0'}]}"
      ]
     },
     "execution_count": 28,
     "metadata": {},
     "output_type": "execute_result"
    }
   ],
   "source": [
    "systeminfo"
   ]
  },
  {
   "cell_type": "code",
   "execution_count": 29,
   "metadata": {},
   "outputs": [
    {
     "data": {
      "text/plain": [
       "dict"
      ]
     },
     "execution_count": 29,
     "metadata": {},
     "output_type": "execute_result"
    }
   ],
   "source": [
    "type(systeminfo)"
   ]
  },
  {
   "cell_type": "code",
   "execution_count": 30,
   "metadata": {},
   "outputs": [
    {
     "data": {
      "text/plain": [
       "list"
      ]
     },
     "execution_count": 30,
     "metadata": {},
     "output_type": "execute_result"
    }
   ],
   "source": [
    "type(basic)"
   ]
  },
  {
   "cell_type": "code",
   "execution_count": 31,
   "metadata": {},
   "outputs": [
    {
     "data": {
      "text/plain": [
       "list"
      ]
     },
     "execution_count": 31,
     "metadata": {},
     "output_type": "execute_result"
    }
   ],
   "source": [
    "type(network)"
   ]
  },
  {
   "cell_type": "code",
   "execution_count": 32,
   "metadata": {},
   "outputs": [
    {
     "data": {
      "text/plain": [
       "False"
      ]
     },
     "execution_count": 32,
     "metadata": {},
     "output_type": "execute_result"
    }
   ],
   "source": [
    "systeminfo['Network'][1]['isLinkUp']"
   ]
  },
  {
   "cell_type": "code",
   "execution_count": 42,
   "metadata": {},
   "outputs": [],
   "source": [
    "df = pd.DataFrame(systeminfo['Network'])"
   ]
  },
  {
   "cell_type": "code",
   "execution_count": 43,
   "metadata": {},
   "outputs": [],
   "source": [
    "df.columns = ['id','isLinkUp','macAddress','name']"
   ]
  },
  {
   "cell_type": "code",
   "execution_count": 44,
   "metadata": {},
   "outputs": [
    {
     "data": {
      "text/html": [
       "<div>\n",
       "<style scoped>\n",
       "    .dataframe tbody tr th:only-of-type {\n",
       "        vertical-align: middle;\n",
       "    }\n",
       "\n",
       "    .dataframe tbody tr th {\n",
       "        vertical-align: top;\n",
       "    }\n",
       "\n",
       "    .dataframe thead th {\n",
       "        text-align: right;\n",
       "    }\n",
       "</style>\n",
       "<table border=\"1\" class=\"dataframe\">\n",
       "  <thead>\n",
       "    <tr style=\"text-align: right;\">\n",
       "      <th></th>\n",
       "      <th>id</th>\n",
       "      <th>isLinkUp</th>\n",
       "      <th>macAddress</th>\n",
       "      <th>name</th>\n",
       "    </tr>\n",
       "  </thead>\n",
       "  <tbody>\n",
       "    <tr>\n",
       "      <th>0</th>\n",
       "      <td>spa_eth2</td>\n",
       "      <td>False</td>\n",
       "      <td>00:60:16:83:1F:F1</td>\n",
       "      <td>SP A Ethernet Port 2</td>\n",
       "    </tr>\n",
       "    <tr>\n",
       "      <th>1</th>\n",
       "      <td>spa_eth3</td>\n",
       "      <td>False</td>\n",
       "      <td>00:60:16:83:1F:F0</td>\n",
       "      <td>SP A Ethernet Port 3</td>\n",
       "    </tr>\n",
       "    <tr>\n",
       "      <th>2</th>\n",
       "      <td>spa_eth4</td>\n",
       "      <td>True</td>\n",
       "      <td>00:60:48:35:22:73</td>\n",
       "      <td>SP A Ethernet Port 4</td>\n",
       "    </tr>\n",
       "    <tr>\n",
       "      <th>3</th>\n",
       "      <td>spa_eth5</td>\n",
       "      <td>True</td>\n",
       "      <td>00:60:48:35:22:72</td>\n",
       "      <td>SP A Ethernet Port 5</td>\n",
       "    </tr>\n",
       "    <tr>\n",
       "      <th>4</th>\n",
       "      <td>spa_iom_0_eth0</td>\n",
       "      <td>False</td>\n",
       "      <td>00:60:16:57:EB:28</td>\n",
       "      <td>SP A I/O Module 0 Ethernet Port 0</td>\n",
       "    </tr>\n",
       "    <tr>\n",
       "      <th>5</th>\n",
       "      <td>spa_iom_0_eth1</td>\n",
       "      <td>False</td>\n",
       "      <td>00:60:16:57:EB:29</td>\n",
       "      <td>SP A I/O Module 0 Ethernet Port 1</td>\n",
       "    </tr>\n",
       "    <tr>\n",
       "      <th>6</th>\n",
       "      <td>spa_iom_0_eth2</td>\n",
       "      <td>False</td>\n",
       "      <td>00:60:16:57:EB:2A</td>\n",
       "      <td>SP A I/O Module 0 Ethernet Port 2</td>\n",
       "    </tr>\n",
       "    <tr>\n",
       "      <th>7</th>\n",
       "      <td>spa_iom_0_eth3</td>\n",
       "      <td>True</td>\n",
       "      <td>00:60:16:57:EB:2B</td>\n",
       "      <td>SP A I/O Module 0 Ethernet Port 3</td>\n",
       "    </tr>\n",
       "    <tr>\n",
       "      <th>8</th>\n",
       "      <td>spa_mgmt</td>\n",
       "      <td>True</td>\n",
       "      <td>08:00:1B:FF:26:70</td>\n",
       "      <td>SP A Management Port</td>\n",
       "    </tr>\n",
       "    <tr>\n",
       "      <th>9</th>\n",
       "      <td>spa_srm</td>\n",
       "      <td>True</td>\n",
       "      <td>92:6D:42:AA:9B:1A</td>\n",
       "      <td>SP A Sync Replication Management Port</td>\n",
       "    </tr>\n",
       "    <tr>\n",
       "      <th>10</th>\n",
       "      <td>spb_eth2</td>\n",
       "      <td>False</td>\n",
       "      <td>00:60:16:83:26:55</td>\n",
       "      <td>SP B Ethernet Port 2</td>\n",
       "    </tr>\n",
       "    <tr>\n",
       "      <th>11</th>\n",
       "      <td>spb_eth3</td>\n",
       "      <td>False</td>\n",
       "      <td>00:60:16:83:26:54</td>\n",
       "      <td>SP B Ethernet Port 3</td>\n",
       "    </tr>\n",
       "    <tr>\n",
       "      <th>12</th>\n",
       "      <td>spb_eth4</td>\n",
       "      <td>True</td>\n",
       "      <td>00:60:48:35:02:E1</td>\n",
       "      <td>SP B Ethernet Port 4</td>\n",
       "    </tr>\n",
       "    <tr>\n",
       "      <th>13</th>\n",
       "      <td>spb_eth5</td>\n",
       "      <td>True</td>\n",
       "      <td>00:60:48:35:02:E0</td>\n",
       "      <td>SP B Ethernet Port 5</td>\n",
       "    </tr>\n",
       "    <tr>\n",
       "      <th>14</th>\n",
       "      <td>spb_iom_0_eth0</td>\n",
       "      <td>False</td>\n",
       "      <td>00:60:16:57:F3:58</td>\n",
       "      <td>SP B I/O Module 0 Ethernet Port 0</td>\n",
       "    </tr>\n",
       "    <tr>\n",
       "      <th>15</th>\n",
       "      <td>spb_iom_0_eth1</td>\n",
       "      <td>False</td>\n",
       "      <td>00:60:16:57:F3:59</td>\n",
       "      <td>SP B I/O Module 0 Ethernet Port 1</td>\n",
       "    </tr>\n",
       "    <tr>\n",
       "      <th>16</th>\n",
       "      <td>spb_iom_0_eth2</td>\n",
       "      <td>False</td>\n",
       "      <td>00:60:16:57:F3:5A</td>\n",
       "      <td>SP B I/O Module 0 Ethernet Port 2</td>\n",
       "    </tr>\n",
       "    <tr>\n",
       "      <th>17</th>\n",
       "      <td>spb_iom_0_eth3</td>\n",
       "      <td>True</td>\n",
       "      <td>00:60:16:57:F3:5B</td>\n",
       "      <td>SP B I/O Module 0 Ethernet Port 3</td>\n",
       "    </tr>\n",
       "    <tr>\n",
       "      <th>18</th>\n",
       "      <td>spb_mgmt</td>\n",
       "      <td>True</td>\n",
       "      <td>00:00:00:00:00:00</td>\n",
       "      <td>SP B Management Port</td>\n",
       "    </tr>\n",
       "    <tr>\n",
       "      <th>19</th>\n",
       "      <td>spb_srm</td>\n",
       "      <td>True</td>\n",
       "      <td>62:AF:5D:52:FB:E2</td>\n",
       "      <td>SP B Sync Replication Management Port</td>\n",
       "    </tr>\n",
       "  </tbody>\n",
       "</table>\n",
       "</div>"
      ],
      "text/plain": [
       "                id  isLinkUp         macAddress  \\\n",
       "0         spa_eth2     False  00:60:16:83:1F:F1   \n",
       "1         spa_eth3     False  00:60:16:83:1F:F0   \n",
       "2         spa_eth4      True  00:60:48:35:22:73   \n",
       "3         spa_eth5      True  00:60:48:35:22:72   \n",
       "4   spa_iom_0_eth0     False  00:60:16:57:EB:28   \n",
       "5   spa_iom_0_eth1     False  00:60:16:57:EB:29   \n",
       "6   spa_iom_0_eth2     False  00:60:16:57:EB:2A   \n",
       "7   spa_iom_0_eth3      True  00:60:16:57:EB:2B   \n",
       "8         spa_mgmt      True  08:00:1B:FF:26:70   \n",
       "9          spa_srm      True  92:6D:42:AA:9B:1A   \n",
       "10        spb_eth2     False  00:60:16:83:26:55   \n",
       "11        spb_eth3     False  00:60:16:83:26:54   \n",
       "12        spb_eth4      True  00:60:48:35:02:E1   \n",
       "13        spb_eth5      True  00:60:48:35:02:E0   \n",
       "14  spb_iom_0_eth0     False  00:60:16:57:F3:58   \n",
       "15  spb_iom_0_eth1     False  00:60:16:57:F3:59   \n",
       "16  spb_iom_0_eth2     False  00:60:16:57:F3:5A   \n",
       "17  spb_iom_0_eth3      True  00:60:16:57:F3:5B   \n",
       "18        spb_mgmt      True  00:00:00:00:00:00   \n",
       "19         spb_srm      True  62:AF:5D:52:FB:E2   \n",
       "\n",
       "                                     name  \n",
       "0                    SP A Ethernet Port 2  \n",
       "1                    SP A Ethernet Port 3  \n",
       "2                    SP A Ethernet Port 4  \n",
       "3                    SP A Ethernet Port 5  \n",
       "4       SP A I/O Module 0 Ethernet Port 0  \n",
       "5       SP A I/O Module 0 Ethernet Port 1  \n",
       "6       SP A I/O Module 0 Ethernet Port 2  \n",
       "7       SP A I/O Module 0 Ethernet Port 3  \n",
       "8                    SP A Management Port  \n",
       "9   SP A Sync Replication Management Port  \n",
       "10                   SP B Ethernet Port 2  \n",
       "11                   SP B Ethernet Port 3  \n",
       "12                   SP B Ethernet Port 4  \n",
       "13                   SP B Ethernet Port 5  \n",
       "14      SP B I/O Module 0 Ethernet Port 0  \n",
       "15      SP B I/O Module 0 Ethernet Port 1  \n",
       "16      SP B I/O Module 0 Ethernet Port 2  \n",
       "17      SP B I/O Module 0 Ethernet Port 3  \n",
       "18                   SP B Management Port  \n",
       "19  SP B Sync Replication Management Port  "
      ]
     },
     "execution_count": 44,
     "metadata": {},
     "output_type": "execute_result"
    }
   ],
   "source": [
    "df"
   ]
  },
  {
   "cell_type": "code",
   "execution_count": 123,
   "metadata": {},
   "outputs": [],
   "source": [
    "UnityArr = '10.237.196.48'"
   ]
  },
  {
   "cell_type": "code",
   "execution_count": 127,
   "metadata": {},
   "outputs": [
    {
     "name": "stderr",
     "output_type": "stream",
     "text": [
      "/usr/lib/python3/dist-packages/urllib3/connectionpool.py:860: InsecureRequestWarning: Unverified HTTPS request is being made. Adding certificate verification is strongly advised. See: https://urllib3.readthedocs.io/en/latest/advanced-usage.html#ssl-warnings\n",
      "  InsecureRequestWarning)\n"
     ]
    }
   ],
   "source": [
    "poolinfo = session.get('https://' + UnityArr + '/api/types/pool/instances?fields=id,name,type,isAllFlash,health,sizeTotal,sizeUsed,sizeFree,dataReductionRatio&compact=true', headers={\"X-EMC-REST-CLIENT\":\"true\"}, verify=False)"
   ]
  },
  {
   "cell_type": "code",
   "execution_count": 128,
   "metadata": {},
   "outputs": [],
   "source": [
    "poolinfo=poolinfo.json()"
   ]
  },
  {
   "cell_type": "code",
   "execution_count": 129,
   "metadata": {},
   "outputs": [
    {
     "data": {
      "text/plain": [
       "{'@base': 'https://10.237.196.48/api/types/pool/instances?fields=id,name,type,isAllFlash,health,sizeTotal,sizeUsed,sizeFree,dataReductionRatio&per_page=2000&compact=true',\n",
       " 'updated': '2019-07-08T20:03:39.922Z',\n",
       " 'links': [{'rel': 'self', 'href': '&page=1'}],\n",
       " 'entries': [{'content': {'id': 'pool_2',\n",
       "    'type': 1,\n",
       "    'health': {'value': 5,\n",
       "     'descriptionIds': ['ALRT_COMPONENT_OK'],\n",
       "     'descriptions': ['The component is operating normally. No action is required.']},\n",
       "    'name': 'High-Perf',\n",
       "    'sizeFree': 9006546419712,\n",
       "    'sizeTotal': 9866882056192,\n",
       "    'sizeUsed': 832117211136,\n",
       "    'isAllFlash': True}}]}"
      ]
     },
     "execution_count": 129,
     "metadata": {},
     "output_type": "execute_result"
    }
   ],
   "source": [
    "poolinfo"
   ]
  },
  {
   "cell_type": "code",
   "execution_count": 103,
   "metadata": {},
   "outputs": [
    {
     "name": "stderr",
     "output_type": "stream",
     "text": [
      "/usr/lib/python3/dist-packages/urllib3/connectionpool.py:860: InsecureRequestWarning: Unverified HTTPS request is being made. Adding certificate verification is strongly advised. See: https://urllib3.readthedocs.io/en/latest/advanced-usage.html#ssl-warnings\n",
      "  InsecureRequestWarning)\n",
      "/usr/lib/python3/dist-packages/urllib3/connectionpool.py:860: InsecureRequestWarning: Unverified HTTPS request is being made. Adding certificate verification is strongly advised. See: https://urllib3.readthedocs.io/en/latest/advanced-usage.html#ssl-warnings\n",
      "  InsecureRequestWarning)\n",
      "/usr/lib/python3/dist-packages/urllib3/connectionpool.py:860: InsecureRequestWarning: Unverified HTTPS request is being made. Adding certificate verification is strongly advised. See: https://urllib3.readthedocs.io/en/latest/advanced-usage.html#ssl-warnings\n",
      "  InsecureRequestWarning)\n",
      "/usr/lib/python3/dist-packages/urllib3/connectionpool.py:860: InsecureRequestWarning: Unverified HTTPS request is being made. Adding certificate verification is strongly advised. See: https://urllib3.readthedocs.io/en/latest/advanced-usage.html#ssl-warnings\n",
      "  InsecureRequestWarning)\n"
     ]
    }
   ],
   "source": [
    "swinfo = session.get('https://10.237.196.48/api/types/installedSoftwareVersion/instances?fields=id,version,revision&compact=true', headers={\"X-EMC-REST-CLIENT\":\"true\"}, verify=False)"
   ]
  },
  {
   "cell_type": "code",
   "execution_count": 104,
   "metadata": {},
   "outputs": [],
   "source": [
    "swinfo = swinfo.json()"
   ]
  },
  {
   "cell_type": "code",
   "execution_count": 105,
   "metadata": {},
   "outputs": [
    {
     "data": {
      "text/plain": [
       "{'@base': 'https://10.237.196.48/api/types/installedSoftwareVersion/instances?fields=id,version,revision&per_page=2000&compact=true',\n",
       " 'updated': '2019-07-08T16:02:47.144Z',\n",
       " 'links': [{'rel': 'self', 'href': '&page=1'}],\n",
       " 'entries': [{'content': {'id': '4.5.0.0.5.096',\n",
       "    'version': '4.5.0',\n",
       "    'revision': 96}}]}"
      ]
     },
     "execution_count": 105,
     "metadata": {},
     "output_type": "execute_result"
    }
   ],
   "source": [
    "swinfo"
   ]
  },
  {
   "cell_type": "code",
   "execution_count": 109,
   "metadata": {},
   "outputs": [
    {
     "name": "stderr",
     "output_type": "stream",
     "text": [
      "/usr/lib/python3/dist-packages/urllib3/connectionpool.py:860: InsecureRequestWarning: Unverified HTTPS request is being made. Adding certificate verification is strongly advised. See: https://urllib3.readthedocs.io/en/latest/advanced-usage.html#ssl-warnings\n",
      "  InsecureRequestWarning)\n"
     ]
    }
   ],
   "source": [
    "sninfo = session.get('https://10.237.196.48/api/types/system/instances?fields=serialNumber&compact=true', headers={\"X-EMC-REST-CLIENT\":\"true\"}, verify=False)"
   ]
  },
  {
   "cell_type": "code",
   "execution_count": 110,
   "metadata": {},
   "outputs": [],
   "source": [
    "sninfo = sninfo.json()"
   ]
  },
  {
   "cell_type": "code",
   "execution_count": 111,
   "metadata": {},
   "outputs": [
    {
     "data": {
      "text/plain": [
       "{'@base': 'https://10.237.196.48/api/types/system/instances?fields=serialNumber&per_page=2000&compact=true',\n",
       " 'updated': '2019-07-08T16:06:14.154Z',\n",
       " 'links': [{'rel': 'self', 'href': '&page=1'}],\n",
       " 'entries': [{'content': {'id': '0', 'serialNumber': 'VIRT1741DBWRYH'}}]}"
      ]
     },
     "execution_count": 111,
     "metadata": {},
     "output_type": "execute_result"
    }
   ],
   "source": [
    "sninfo"
   ]
  },
  {
   "cell_type": "code",
   "execution_count": 118,
   "metadata": {},
   "outputs": [
    {
     "name": "stderr",
     "output_type": "stream",
     "text": [
      "/usr/lib/python3/dist-packages/urllib3/connectionpool.py:860: InsecureRequestWarning: Unverified HTTPS request is being made. Adding certificate verification is strongly advised. See: https://urllib3.readthedocs.io/en/latest/advanced-usage.html#ssl-warnings\n",
      "  InsecureRequestWarning)\n"
     ]
    }
   ],
   "source": [
    "syscapinfo = session.get('https://10.237.196.198/api/types/systemCapacity/instances?fields=sizeTotal,sizeUsed,sizeFree,dataReductionRatio,overallEfficiencyRatio&compact=true', headers={\"X-EMC-REST-CLIENT\":\"true\"}, verify=False)"
   ]
  },
  {
   "cell_type": "code",
   "execution_count": 119,
   "metadata": {},
   "outputs": [],
   "source": [
    "syscapinfo = syscapinfo.json()"
   ]
  },
  {
   "cell_type": "code",
   "execution_count": 120,
   "metadata": {},
   "outputs": [
    {
     "data": {
      "text/plain": [
       "{'@base': 'https://10.237.196.198/api/types/systemCapacity/instances?fields=sizeTotal,sizeUsed,sizeFree,dataReductionRatio,overallEfficiencyRatio&per_page=2000&compact=true',\n",
       " 'updated': '2019-07-08T16:14:35.529Z',\n",
       " 'links': [{'rel': 'self', 'href': '&page=1'}],\n",
       " 'entries': [{'content': {'id': '0',\n",
       "    'sizeFree': 105145899679744,\n",
       "    'sizeTotal': 107679661948928,\n",
       "    'sizeUsed': 2398569906176,\n",
       "    'dataReductionRatio': 1.63,\n",
       "    'overallEfficiencyRatio': 20.6}}]}"
      ]
     },
     "execution_count": 120,
     "metadata": {},
     "output_type": "execute_result"
    }
   ],
   "source": [
    "syscapinfo"
   ]
  },
  {
   "cell_type": "code",
   "execution_count": null,
   "metadata": {},
   "outputs": [],
   "source": []
  }
 ],
 "metadata": {
  "kernelspec": {
   "display_name": "Python 3",
   "language": "python",
   "name": "python3"
  },
  "language_info": {
   "codemirror_mode": {
    "name": "ipython",
    "version": 3
   },
   "file_extension": ".py",
   "mimetype": "text/x-python",
   "name": "python",
   "nbconvert_exporter": "python",
   "pygments_lexer": "ipython3",
   "version": "3.6.8"
  }
 },
 "nbformat": 4,
 "nbformat_minor": 2
}
