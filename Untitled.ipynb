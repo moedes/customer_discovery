{
 "cells": [
  {
   "cell_type": "code",
   "execution_count": 9,
   "metadata": {},
   "outputs": [],
   "source": [
    "import requests\n",
    "import json"
   ]
  },
  {
   "cell_type": "code",
   "execution_count": 10,
   "metadata": {},
   "outputs": [],
   "source": [
    "isisession = requests.Session()\n",
    "isisession.auth = ('root', 'MRD3nver!')"
   ]
  },
  {
   "cell_type": "code",
   "execution_count": 33,
   "metadata": {},
   "outputs": [
    {
     "name": "stderr",
     "output_type": "stream",
     "text": [
      "C:\\Python35\\lib\\site-packages\\urllib3\\connectionpool.py:858: InsecureRequestWarning: Unverified HTTPS request is being made. Adding certificate verification is strongly advised. See: https://urllib3.readthedocs.io/en/latest/advanced-usage.html#ssl-warnings\n",
      "  InsecureRequestWarning)\n"
     ]
    }
   ],
   "source": [
    "isiinfo = isisession.get('https://10.237.194.43:8080/platform/7/cluster/version?describe', verify=False)"
   ]
  },
  {
   "cell_type": "code",
   "execution_count": 34,
   "metadata": {},
   "outputs": [
    {
     "data": {
      "text/plain": [
       "'Resource URL: /platform/7/cluster/version\\n\\n    Overview: This resource represents the current OneFS version of each node\\n              on the cluster.  The versions should be the same except during an\\n              upgrade.\\n\\n     Methods: GET\\n\\n********************************************************************************\\n\\nMethod GET: Retrieve the OneFS version as reported by each node.\\n\\nURL: GET /platform/7/cluster/version\\n\\nThere are no query arguments for this method.\\n\\nGET response body schema:\\n{\\n  \"type\": [\\n    {\\n      \"additionalProperties\": false, \\n      \"type\": \"object\", \\n      \"description\": \"A list of errors that may be returned.\", \\n      \"properties\": {\\n        \"errors\": {\\n          \"minItems\": 1, \\n          \"items\": {\\n            \"additionalProperties\": false, \\n            \"type\": \"object\", \\n            \"description\": \"An object describing a single error.\", \\n            \"properties\": {\\n              \"field\": {\\n                \"minLength\": 1, \\n                \"type\": \"string\", \\n                \"description\": \"The field with the error if applicable.\", \\n                \"maxLength\": 8192\\n              }, \\n              \"message\": {\\n                \"minLength\": 1, \\n                \"type\": \"string\", \\n                \"description\": \"The error message.\", \\n                \"maxLength\": 8192\\n              }, \\n              \"code\": {\\n                \"minLength\": 1, \\n                \"type\": \"string\", \\n                \"description\": \"The error code.\", \\n                \"maxLength\": 8192\\n              }\\n            }\\n          }, \\n          \"type\": \"array\", \\n          \"maxItems\": 65535\\n        }\\n      }\\n    }, \\n    {\\n      \"type\": \"object\", \\n      \"properties\": {\\n        \"total\": {\\n          \"minimum\": 0, \\n          \"type\": \"integer\", \\n          \"description\": \"The total number of nodes responding.\", \\n          \"maximum\": 2147483647\\n        }, \\n        \"nodes\": {\\n          \"minItems\": 1, \\n          \"items\": {\\n            \"type\": \"object\", \\n            \"properties\": {\\n              \"status\": {\\n                \"required\": false, \\n                \"minimum\": 0, \\n                \"type\": \"integer\", \\n                \"description\": \"Status of the HTTP response from this node if not 200.  If 200, this field does not appear.\", \\n                \"maximum\": 4294967295\\n              }, \\n              \"version\": {\\n                \"required\": true, \\n                \"type\": \"string\", \\n                \"description\": \"Kernel full version information.\"\\n              }, \\n              \"lnn\": {\\n                \"minimum\": 1, \\n                \"type\": \"integer\", \\n                \"description\": \"Logical Node Number (LNN) of a node.\", \\n                \"maximum\": 65535\\n              }, \\n              \"build\": {\\n                \"required\": true, \\n                \"type\": \"string\", \\n                \"description\": \"OneFS build string.\"\\n              }, \\n              \"error\": {\\n                \"minLength\": 0, \\n                \"required\": false, \\n                \"type\": \"string\", \\n                \"description\": \"Error message, if the HTTP status returned from this node was not 200.\", \\n                \"maxLength\": 8192\\n              }, \\n              \"release\": {\\n                \"required\": true, \\n                \"type\": \"string\", \\n                \"description\": \"Kernel release number.\"\\n              }, \\n              \"type\": {\\n                \"required\": true, \\n                \"type\": \"string\", \\n                \"description\": \"Kernel release type.\"\\n              }, \\n              \"id\": {\\n                \"minimum\": 0, \\n                \"type\": \"integer\", \\n                \"description\": \"Node ID (Device Number) of a node.\", \\n                \"maximum\": 2147483647\\n              }, \\n              \"revision\": {\\n                \"required\": true, \\n                \"type\": \"string\", \\n                \"description\": \"OneFS build number.\"\\n              }\\n            }\\n          }, \\n          \"type\": \"array\", \\n          \"description\": \"The responses from the individual nodes involved in this request.\", \\n          \"maxItems\": 2147483647\\n        }, \\n        \"errors\": {\\n          \"description\": \"A list of errors encountered by the individual nodes involved in this request, or an empty list if there were no errors.\", \\n          \"minItems\": 0, \\n          \"items\": {\\n            \"additionalProperties\": false, \\n            \"type\": \"object\", \\n            \"description\": \"An object describing a single error.\", \\n            \"properties\": {\\n              \"status\": {\\n                \"minimum\": 0, \\n                \"type\": \"integer\", \\n                \"description\": \"HTTP Status code returned by this node.\", \\n                \"maximum\": 4294967295\\n              }, \\n              \"code\": {\\n                \"minLength\": 1, \\n                \"type\": \"string\", \\n                \"description\": \"The error code.\", \\n                \"maxLength\": 8192\\n              }, \\n              \"field\": {\\n                \"minLength\": 1, \\n                \"type\": \"string\", \\n                \"description\": \"The field with the error if applicable.\", \\n                \"maxLength\": 8192\\n              }, \\n              \"lnn\": {\\n                \"minimum\": 1, \\n                \"type\": \"integer\", \\n                \"description\": \"Logical Node Number (LNN) of a node.\", \\n                \"maximum\": 65535\\n              }, \\n              \"message\": {\\n                \"minLength\": 1, \\n                \"type\": \"string\", \\n                \"description\": \"The error message.\", \\n                \"maxLength\": 8192\\n              }, \\n              \"id\": {\\n                \"minimum\": 0, \\n                \"type\": \"integer\", \\n                \"description\": \"Node ID (Device Number) of a node.\", \\n                \"maximum\": 2147483647\\n              }\\n            }\\n          }, \\n          \"maxItems\": 65535, \\n          \"additionalProperties\": false, \\n          \"type\": \"array\"\\n        }\\n      }\\n    }\\n  ]\\n}\\n\\r\\n'"
      ]
     },
     "execution_count": 34,
     "metadata": {},
     "output_type": "execute_result"
    }
   ],
   "source": [
    "isiinfo.text"
   ]
  },
  {
   "cell_type": "code",
   "execution_count": null,
   "metadata": {},
   "outputs": [],
   "source": []
  }
 ],
 "metadata": {
  "kernelspec": {
   "display_name": "Python 3",
   "language": "python",
   "name": "python3"
  },
  "language_info": {
   "codemirror_mode": {
    "name": "ipython",
    "version": 3
   },
   "file_extension": ".py",
   "mimetype": "text/x-python",
   "name": "python",
   "nbconvert_exporter": "python",
   "pygments_lexer": "ipython3",
   "version": "3.5.4"
  }
 },
 "nbformat": 4,
 "nbformat_minor": 2
}
